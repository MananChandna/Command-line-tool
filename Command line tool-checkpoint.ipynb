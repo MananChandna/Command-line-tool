{
 "cells": [
  {
   "cell_type": "code",
   "execution_count": 1,
   "id": "7d0e29bd-a76a-42b6-9ea2-e1c8d31d96f3",
   "metadata": {},
   "outputs": [
    {
     "name": "stdin",
     "output_type": "stream",
     "text": [
      "What's your name\n",
      " Manan\n"
     ]
    }
   ],
   "source": [
    "name = input(\"What's your name\\n\")"
   ]
  },
  {
   "cell_type": "code",
   "execution_count": 2,
   "id": "58c32667-54c5-4c86-b212-7b9dad7aef0d",
   "metadata": {},
   "outputs": [
    {
     "name": "stdout",
     "output_type": "stream",
     "text": [
      "Manan\n"
     ]
    }
   ],
   "source": [
    "print(name)"
   ]
  },
  {
   "cell_type": "code",
   "execution_count": 3,
   "id": "5dd8bd89-54fb-4a44-80ec-ad639e5ac91a",
   "metadata": {},
   "outputs": [
    {
     "name": "stdin",
     "output_type": "stream",
     "text": [
      "Enter your password:\n",
      "  ········\n"
     ]
    }
   ],
   "source": [
    "from getpass import getpass\n",
    "\n",
    "pw = getpass(\"Enter your password:\\n \")\n"
   ]
  },
  {
   "cell_type": "code",
   "execution_count": 4,
   "id": "cf8cef1c-8176-4fa1-b17d-b61499f5380a",
   "metadata": {},
   "outputs": [
    {
     "name": "stdout",
     "output_type": "stream",
     "text": [
      "1234\n"
     ]
    }
   ],
   "source": [
    "print(pw)"
   ]
  },
  {
   "cell_type": "code",
   "execution_count": 5,
   "id": "5b6dd546-6c7d-48a2-853d-75c159680873",
   "metadata": {},
   "outputs": [
    {
     "name": "stdout",
     "output_type": "stream",
     "text": [
      "Overwriting raw_input.py\n"
     ]
    }
   ],
   "source": [
    "%%writefile raw_input.py\n",
    "\n",
    "from getpass import getpass\n",
    "\n",
    "name = input(\"What's your name\\n\")\n",
    "pw = getpass(\"Enter your password:\\n \")\n",
    "\n",
    "print(name,pw)"
   ]
  },
  {
   "cell_type": "code",
   "execution_count": 6,
   "id": "1ca4fa95-6439-4d06-ad11-20d57a25fb75",
   "metadata": {},
   "outputs": [
    {
     "name": "stdout",
     "output_type": "stream",
     "text": [
      "Overwriting cli_sys.py\n"
     ]
    }
   ],
   "source": [
    "%%writefile cli_sys.py\n",
    "import sys\n",
    "if __name__ == \"__main__\":\n",
    "    try:\n",
    "        name = sys.argv[1]\n",
    "    except:\n",
    "        name = input(\"What's your name\\n\")\n",
    "    from getpass import getpass\n",
    "    pw = getpass(\"Enter your password:\\n \")\n",
    "    print(name,pw)"
   ]
  },
  {
   "cell_type": "code",
   "execution_count": 7,
   "id": "084b70da-c38e-4ff0-b97f-7d3e2fa59640",
   "metadata": {},
   "outputs": [
    {
     "name": "stdout",
     "output_type": "stream",
     "text": [
      "Overwriting cli_argparse.py\n"
     ]
    }
   ],
   "source": [
    "%%writefile cli_argparse.py\n",
    "import argparse\n",
    "\n",
    "if __name__ == \"__main__\":\n",
    "    parser = argparse.ArgumentParser()\n",
    "    parser.add_argument(\"integer\", type=int, nargs=\"+\")\n",
    "    parser.add_argument(\"--sum\", dest='accumulate', action='store_const', const=sum, default=max)\n",
    "    args = parser.parse_args()\n",
    "    print(args.accumulate(args.integer))"
   ]
  },
  {
   "cell_type": "code",
   "execution_count": 10,
   "id": "0ea4da93-883e-4487-a8fa-384609e0d527",
   "metadata": {},
   "outputs": [
    {
     "name": "stdout",
     "output_type": "stream",
     "text": [
      "Requirement already satisfied: fire in c:\\users\\dell\\.virtualenvs\\day23-r19f0sr5\\lib\\site-packages (0.6.0)\n",
      "Requirement already satisfied: six in c:\\users\\dell\\.virtualenvs\\day23-r19f0sr5\\lib\\site-packages (from fire) (1.16.0)\n",
      "Requirement already satisfied: termcolor in c:\\users\\dell\\.virtualenvs\\day23-r19f0sr5\\lib\\site-packages (from fire) (2.4.0)\n"
     ]
    }
   ],
   "source": [
    "!pip install fire"
   ]
  },
  {
   "cell_type": "code",
   "execution_count": 9,
   "id": "be94e58c-86c4-4b3f-87f7-5fc497ce56f8",
   "metadata": {},
   "outputs": [
    {
     "name": "stdout",
     "output_type": "stream",
     "text": [
      "Overwriting cli_fire.py\n"
     ]
    }
   ],
   "source": [
    "%%writefile cli_fire.py\n",
    "import fire\n",
    "\n",
    "def hello(name='World'):\n",
    "    return f\"Hello {name}\"\n",
    "\n",
    "if __name__ == \"__main__\":\n",
    "    fire.Fire(hello)"
   ]
  },
  {
   "cell_type": "code",
   "execution_count": 12,
   "id": "b078ea90-57ba-418b-b648-9d4f7100d9cc",
   "metadata": {},
   "outputs": [
    {
     "name": "stdout",
     "output_type": "stream",
     "text": [
      "Overwriting cli_fire_inputs.py\n"
     ]
    }
   ],
   "source": [
    "%%writefile cli_fire_inputs.py\n",
    "from getpass import getpass\n",
    "import fire\n",
    "\n",
    "def login(name=None):\n",
    "    if name == None:\n",
    "        name = input(\"What's your name\\n\")\n",
    "    pw = getpass(\"Enter your password:\\n \")\n",
    "    return name,pw\n",
    "\n",
    "if __name__ == \"__main__\":\n",
    "    fire.Fire(login)"
   ]
  },
  {
   "cell_type": "markdown",
   "id": "5daf340a-230a-4864-9631-76477d945c5e",
   "metadata": {},
   "source": [
    "## Now creating the commandline tool for the stackoverflowscrapper that we made before"
   ]
  },
  {
   "cell_type": "code",
   "execution_count": 3,
   "id": "b6589bcd-5a35-493f-b02b-58b4b665f5c8",
   "metadata": {},
   "outputs": [
    {
     "name": "stdout",
     "output_type": "stream",
     "text": [
      "Writing command_line_tool.py\n"
     ]
    }
   ],
   "source": [
    "%%writefile command_line_tool.py\n",
    "# Import necessary libraries\n",
    "import requests\n",
    "from bs4 import BeautifulSoup\n",
    "import pandas as pd\n",
    "\n",
    "# Function to scrape Stack Overflow data\n",
    "def scrape_stackoverflow(tag='python', query_filter='Votes', num_pages=1):\n",
    "    # Base URL for Stack Overflow questions\n",
    "    base_url = 'https://stackoverflow.com/questions/tagged/'\n",
    "    url = f\"{base_url}{tag}?tab={query_filter}\"\n",
    "\n",
    "    # Function to scrape a single page\n",
    "    def scrape_page(url):\n",
    "        response = requests.get(url)\n",
    "        if response.status_code == 200:\n",
    "            soup = BeautifulSoup(response.text, 'html.parser')\n",
    "            post_summaries = soup.find_all(class_=['s-post-summary'])\n",
    "            data = []\n",
    "            for post_summary in post_summaries:\n",
    "                question_title = post_summary.find(class_='s-post-summary--content-title').text.strip()\n",
    "                votes = post_summary.find(class_='s-post-summary--stats-item-number').text.strip()\n",
    "                tags = post_summary.find(class_='tags').text.strip()\n",
    "                post_data = {\n",
    "                    'question_title': question_title,\n",
    "                    'votes': votes,\n",
    "                    'tags': tags\n",
    "                }\n",
    "                data.append(post_data)\n",
    "            return data\n",
    "\n",
    "    # Scrape multiple pages\n",
    "    all_data = []\n",
    "    for page_num in range(1, num_pages + 1):\n",
    "        url_with_page = f\"{url}&page={page_num}\"\n",
    "        page_data = scrape_page(url_with_page)\n",
    "        all_data.extend(page_data)\n",
    "\n",
    "    return all_data\n",
    "\n",
    "# Function to run the script\n",
    "def run_script(tag='python', query_filter='Votes', num_pages=1, output_file='output.csv'):\n",
    "    # Scrape Stack Overflow data\n",
    "    stackoverflow_data = scrape_stackoverflow(tag, query_filter, num_pages)\n",
    "\n",
    "    # Convert the data to a DataFrame\n",
    "    df = pd.DataFrame(stackoverflow_data)\n",
    "\n",
    "    # Save the DataFrame to a CSV file\n",
    "    df.to_csv(output_file, index=False)\n",
    "\n",
    "# Run the script with default parameters\n",
    "run_script()\n"
   ]
  },
  {
   "cell_type": "code",
   "execution_count": null,
   "id": "7042f65a-502e-4876-b79c-c3b3c348692c",
   "metadata": {},
   "outputs": [],
   "source": []
  }
 ],
 "metadata": {
  "kernelspec": {
   "display_name": "Python 3 (ipykernel)",
   "language": "python",
   "name": "python3"
  },
  "language_info": {
   "codemirror_mode": {
    "name": "ipython",
    "version": 3
   },
   "file_extension": ".py",
   "mimetype": "text/x-python",
   "name": "python",
   "nbconvert_exporter": "python",
   "pygments_lexer": "ipython3",
   "version": "3.11.7"
  }
 },
 "nbformat": 4,
 "nbformat_minor": 5
}
